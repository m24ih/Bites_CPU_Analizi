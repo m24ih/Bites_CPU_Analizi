{
 "cells": [
  {
   "cell_type": "markdown",
   "id": "54c64fe4",
   "metadata": {},
   "source": [
    "# Çok Değişkenli Tahmin için Ayrı SARIMA Modelleri"
   ]
  },
  {
   "cell_type": "code",
   "execution_count": 1,
   "id": "74d2e291",
   "metadata": {},
   "outputs": [],
   "source": [
    "import pandas as pd\n",
    "import numpy as np\n",
    "import plotly.graph_objects as go\n",
    "import time\n",
    "from sklearn.metrics import mean_absolute_error, mean_squared_error, r2_score\n",
    "import statsmodels.api as sm"
   ]
  },
  {
   "cell_type": "markdown",
   "id": "92dbed9c",
   "metadata": {},
   "source": [
    "## Adım 1: Veri Yükleme ve Hazırlama\n",
    "\n",
    "Veriyi 30 dakikalık ortalamalara yeniden örnekleyeceğiz, 3 sütunu da koruyacağız."
   ]
  },
  {
   "cell_type": "code",
   "execution_count": 2,
   "id": "7bba59c6",
   "metadata": {},
   "outputs": [
    {
     "name": "stdout",
     "output_type": "stream",
     "text": [
      "Eğitim verisi boyutu: 1392\n",
      "Test verisi boyutu: 48\n"
     ]
    }
   ],
   "source": [
    "# İşlenmiş veriyi oku\n",
    "df = pd.read_csv('genel_sunucu_yuku_tum_metrikler.csv', index_col='timestamp')\n",
    "df.index = pd.to_datetime(df.index, unit='s')\n",
    "\n",
    "# Veriyi 30 dakikalık aralıklara yeniden örnekle\n",
    "df_resampled = df.resample('30min').mean().dropna()\n",
    "\n",
    "# Tahmin edilecek sütunlar\n",
    "target_columns = ['avg_min_cpu', 'avg_max_cpu', 'avg_avg_cpu']\n",
    "ts_data = df_resampled[target_columns]\n",
    "\n",
    "# Veriyi eğitim ve test setlerine ayır (Son 1 gün test verisi)\n",
    "new_test_size = 48\n",
    "train_data = ts_data[:-new_test_size]\n",
    "test_data = ts_data[-new_test_size:]\n",
    "\n",
    "print(f\"Eğitim verisi boyutu: {len(train_data)}\")\n",
    "print(f\"Test verisi boyutu: {len(test_data)}\")"
   ]
  },
  {
   "cell_type": "markdown",
   "id": "94812c69",
   "metadata": {},
   "source": [
    "## Adım 2: Her Metrik İçin Ayrı Model Kurma ve Eğitme\n",
    "\n",
    "Şimdi, `target_columns` listesindeki her bir metrik için bir döngü oluşturup ayrı ayrı SARIMA modelleri eğiteceğiz."
   ]
  },
  {
   "cell_type": "code",
   "execution_count": 3,
   "id": "dbad80b2",
   "metadata": {},
   "outputs": [
    {
     "name": "stdout",
     "output_type": "stream",
     "text": [
      "\n",
      "--- 'avg_min_cpu' için SARIMA modeli eğitiliyor... ---\n",
      "'avg_min_cpu' için eğitim tamamlandı.\n",
      "\n",
      "--- 'avg_max_cpu' için SARIMA modeli eğitiliyor... ---\n",
      "'avg_max_cpu' için eğitim tamamlandı.\n",
      "\n",
      "--- 'avg_avg_cpu' için SARIMA modeli eğitiliyor... ---\n",
      "'avg_avg_cpu' için eğitim tamamlandı.\n",
      "\n",
      "Tüm modellerin eğitimi tamamlandı. Toplam süre: 106.69 saniye\n"
     ]
    }
   ],
   "source": [
    "# Model parametreleri (tüm modeller için aynı kullanılacak)\n",
    "p, d, q = 1, 1, 1\n",
    "P, D, Q, s = 1, 1, 1, 48 # 30 dakikalık veri için s=48\n",
    "\n",
    "all_results = {}\n",
    "start_time = time.time()\n",
    "\n",
    "for column in target_columns:\n",
    "    print(f\"\\n--- '{column}' için SARIMA modeli eğitiliyor... ---\")\n",
    "    \n",
    "    # Modeli sadece ilgili sütun üzerinde eğit\n",
    "    model = sm.tsa.SARIMAX(\n",
    "        train_data[column], # Sadece o anki sütunu seç\n",
    "        order=(p, d, q),\n",
    "        seasonal_order=(P, D, Q, s),\n",
    "        enforce_stationarity=False,\n",
    "        enforce_invertibility=False\n",
    "    )\n",
    "    \n",
    "    result = model.fit()\n",
    "    \n",
    "    # Tahmin yap\n",
    "    start_index = len(train_data)\n",
    "    end_index = len(train_data) + len(test_data) - 1\n",
    "    predictions = result.get_prediction(start=start_index, end=end_index)\n",
    "    \n",
    "    # Sonuçları sakla\n",
    "    all_results[column] = {\n",
    "        'predictions': predictions.predicted_mean,\n",
    "        'model_summary': result.summary()\n",
    "    }\n",
    "    print(f\"'{column}' için eğitim tamamlandı.\")\n",
    "\n",
    "end_time = time.time()\n",
    "print(f\"\\nTüm modellerin eğitimi tamamlandı. Toplam süre: {end_time - start_time:.2f} saniye\")"
   ]
  },
  {
   "cell_type": "markdown",
   "id": "28f48579",
   "metadata": {},
   "source": [
    "## Adım 3: Her Modelin Performansını Değerlendirme"
   ]
  },
  {
   "cell_type": "code",
   "execution_count": 4,
   "id": "5a149289",
   "metadata": {},
   "outputs": [
    {
     "name": "stdout",
     "output_type": "stream",
     "text": [
      "--- SARIMA Modelleri İçin Performans Metrikleri ---\n",
      "\n",
      "--- Metrik: 'avg_min_cpu' ---\n",
      "  Ortalama Mutlak Hata (MAE): 0.13\n",
      "  Kök Ortalama Kare Hata (RMSE): 0.15\n",
      "  R-Kare (R²): -0.40\n",
      "  Ortalama Mutlak Yüzde Hata (MAPE): 2.26%\n",
      "\n",
      "--- Metrik: 'avg_max_cpu' ---\n",
      "  Ortalama Mutlak Hata (MAE): 0.47\n",
      "  Kök Ortalama Kare Hata (RMSE): 0.55\n",
      "  R-Kare (R²): 0.10\n",
      "  Ortalama Mutlak Yüzde Hata (MAPE): 2.49%\n",
      "\n",
      "--- Metrik: 'avg_avg_cpu' ---\n",
      "  Ortalama Mutlak Hata (MAE): 0.27\n",
      "  Kök Ortalama Kare Hata (RMSE): 0.31\n",
      "  R-Kare (R²): -0.22\n",
      "  Ortalama Mutlak Yüzde Hata (MAPE): 2.87%\n"
     ]
    }
   ],
   "source": [
    "# MAPE fonksiyonu\n",
    "def mean_absolute_percentage_error(y_true, y_pred): \n",
    "    y_true, y_pred = np.array(y_true), np.array(y_pred)\n",
    "    return np.mean(np.abs((y_true - y_pred) / (y_true + 1e-8))) * 100\n",
    "\n",
    "print(\"--- SARIMA Modelleri İçin Performans Metrikleri ---\")\n",
    "\n",
    "for column in target_columns:\n",
    "    y_true = test_data[column].values\n",
    "    y_pred = all_results[column]['predictions'].values\n",
    "    \n",
    "    mae = mean_absolute_error(y_true, y_pred)\n",
    "    rmse = np.sqrt(mean_squared_error(y_true, y_pred))\n",
    "    r2 = r2_score(y_true, y_pred)\n",
    "    mape = mean_absolute_percentage_error(y_true, y_pred)\n",
    "    \n",
    "    print(f\"\\n--- Metrik: '{column}' ---\")\n",
    "    print(f\"  Ortalama Mutlak Hata (MAE): {mae:.2f}\")\n",
    "    print(f\"  Kök Ortalama Kare Hata (RMSE): {rmse:.2f}\")\n",
    "    print(f\"  R-Kare (R²): {r2:.2f}\")\n",
    "    print(f\"  Ortalama Mutlak Yüzde Hata (MAPE): {mape:.2f}%\")"
   ]
  },
  {
   "cell_type": "markdown",
   "id": "cc642395",
   "metadata": {},
   "source": [
    "## Adım 4: Sonuçları Görselleştirme"
   ]
  },
  {
   "cell_type": "code",
   "execution_count": 5,
   "id": "41b5ce03",
   "metadata": {},
   "outputs": [
    {
     "name": "stdout",
     "output_type": "stream",
     "text": [
      "Tüm metrikler için sonuçlar görselleştiriliyor...\n"
     ]
    },
    {
     "data": {
      "application/vnd.plotly.v1+json": {
       "config": {
        "plotlyServerURL": "https://plot.ly"
       },
       "data": [
        {
         "mode": "lines",
         "name": "Gerçek avg_min_cpu",
         "type": "scatter",
         "x": [
          "1970-01-30T00:00:00.000000000",
          "1970-01-30T00:30:00.000000000",
          "1970-01-30T01:00:00.000000000",
          "1970-01-30T01:30:00.000000000",
          "1970-01-30T02:00:00.000000000",
          "1970-01-30T02:30:00.000000000",
          "1970-01-30T03:00:00.000000000",
          "1970-01-30T03:30:00.000000000",
          "1970-01-30T04:00:00.000000000",
          "1970-01-30T04:30:00.000000000",
          "1970-01-30T05:00:00.000000000",
          "1970-01-30T05:30:00.000000000",
          "1970-01-30T06:00:00.000000000",
          "1970-01-30T06:30:00.000000000",
          "1970-01-30T07:00:00.000000000",
          "1970-01-30T07:30:00.000000000",
          "1970-01-30T08:00:00.000000000",
          "1970-01-30T08:30:00.000000000",
          "1970-01-30T09:00:00.000000000",
          "1970-01-30T09:30:00.000000000",
          "1970-01-30T10:00:00.000000000",
          "1970-01-30T10:30:00.000000000",
          "1970-01-30T11:00:00.000000000",
          "1970-01-30T11:30:00.000000000",
          "1970-01-30T12:00:00.000000000",
          "1970-01-30T12:30:00.000000000",
          "1970-01-30T13:00:00.000000000",
          "1970-01-30T13:30:00.000000000",
          "1970-01-30T14:00:00.000000000",
          "1970-01-30T14:30:00.000000000",
          "1970-01-30T15:00:00.000000000",
          "1970-01-30T15:30:00.000000000",
          "1970-01-30T16:00:00.000000000",
          "1970-01-30T16:30:00.000000000",
          "1970-01-30T17:00:00.000000000",
          "1970-01-30T17:30:00.000000000",
          "1970-01-30T18:00:00.000000000",
          "1970-01-30T18:30:00.000000000",
          "1970-01-30T19:00:00.000000000",
          "1970-01-30T19:30:00.000000000",
          "1970-01-30T20:00:00.000000000",
          "1970-01-30T20:30:00.000000000",
          "1970-01-30T21:00:00.000000000",
          "1970-01-30T21:30:00.000000000",
          "1970-01-30T22:00:00.000000000",
          "1970-01-30T22:30:00.000000000",
          "1970-01-30T23:00:00.000000000",
          "1970-01-30T23:30:00.000000000"
         ],
         "y": {
          "bdata": "Bcug/bjSGECIENcXQD8ZQK2iJ9k46xhA8LhWT8dIGUBYocIrwOwYQGGAzPDF/BhAyJaxpFOiGEDrdNuqXJMYQNPvmwJ5MBhAX9pFh9RaGEC8045XdCIYQI8VOio1eBhAmdloMKn1F0CT5EJVdg4YQAD544CoeBdA1FJmtVdxF0BfryaFzS0XQGVFC+1bgBdAr62OtJl+F0A72aUd8sgXQPgZ1NZ3cBdANE8S/rDYF0BYyT0HXaIXQLf6FButeBdA2O58w+tBF0DL6pxgB5IXQCglmBCBohdAu0u1A2AAGEAzhbrFBcwXQNil91SH8xdAjS6w7MTBF0BI6Q7r4wAYQMeZfjJkgxdAnPc4UUSPF0CAG2L84nQXQJEXsLFtyhdAe9z4Jm+JF0Cj41hUisIXQF2kVcdmvxdAofsR9svoF0BVz/2Avr0XQDzrhOtEzRdAgErMrG6rF0CDUXf+A70XQF1oVGobrxdAu/NH7qrzF0BV+9Y9ZcAXQBZ3WeR/BBhA",
          "dtype": "f8"
         }
        },
        {
         "line": {
          "dash": "dash"
         },
         "mode": "lines",
         "name": "Tahmin avg_min_cpu",
         "type": "scatter",
         "x": [
          "1970-01-30T00:00:00.000000000",
          "1970-01-30T00:30:00.000000000",
          "1970-01-30T01:00:00.000000000",
          "1970-01-30T01:30:00.000000000",
          "1970-01-30T02:00:00.000000000",
          "1970-01-30T02:30:00.000000000",
          "1970-01-30T03:00:00.000000000",
          "1970-01-30T03:30:00.000000000",
          "1970-01-30T04:00:00.000000000",
          "1970-01-30T04:30:00.000000000",
          "1970-01-30T05:00:00.000000000",
          "1970-01-30T05:30:00.000000000",
          "1970-01-30T06:00:00.000000000",
          "1970-01-30T06:30:00.000000000",
          "1970-01-30T07:00:00.000000000",
          "1970-01-30T07:30:00.000000000",
          "1970-01-30T08:00:00.000000000",
          "1970-01-30T08:30:00.000000000",
          "1970-01-30T09:00:00.000000000",
          "1970-01-30T09:30:00.000000000",
          "1970-01-30T10:00:00.000000000",
          "1970-01-30T10:30:00.000000000",
          "1970-01-30T11:00:00.000000000",
          "1970-01-30T11:30:00.000000000",
          "1970-01-30T12:00:00.000000000",
          "1970-01-30T12:30:00.000000000",
          "1970-01-30T13:00:00.000000000",
          "1970-01-30T13:30:00.000000000",
          "1970-01-30T14:00:00.000000000",
          "1970-01-30T14:30:00.000000000",
          "1970-01-30T15:00:00.000000000",
          "1970-01-30T15:30:00.000000000",
          "1970-01-30T16:00:00.000000000",
          "1970-01-30T16:30:00.000000000",
          "1970-01-30T17:00:00.000000000",
          "1970-01-30T17:30:00.000000000",
          "1970-01-30T18:00:00.000000000",
          "1970-01-30T18:30:00.000000000",
          "1970-01-30T19:00:00.000000000",
          "1970-01-30T19:30:00.000000000",
          "1970-01-30T20:00:00.000000000",
          "1970-01-30T20:30:00.000000000",
          "1970-01-30T21:00:00.000000000",
          "1970-01-30T21:30:00.000000000",
          "1970-01-30T22:00:00.000000000",
          "1970-01-30T22:30:00.000000000",
          "1970-01-30T23:00:00.000000000",
          "1970-01-30T23:30:00.000000000"
         ],
         "y": {
          "bdata": "6ISiWx9iGEAW+90rfdoYQG0qiM/UrxhAGrnIB0rAGEDxsqYXKFMYQInFp3kKXBhAlTn1pVL5F0CTCU19KNkXQD9nJOnEvxdAag6bRKL+F0AcLldCk88XQOJuclFB5BdAWcatpjuVF0BlQJpPQZYXQGOvymN7bRdASgHmmCpZF0DpdZsJazEXQFavJc00URdAb2GVBVVJF0A3y8Hu+n0XQP7ZBzLnoxdAHuS1A+fsF0AEaghzVxUYQC7y2QoLRBhAqfJjKHFTGEDprkE/gqUYQGa0/XCGmRhAXWK3jDvGGEC+5ed7I5YYQOImEsqHtBhA+FQeH5eIGECXtIWu8ZgYQBe9KbL4fRhAXwrQ/RWsGEAHRaD8VnQYQDa0lGp5hBhAhZhmsjJWGEBolZYFPnAYQNPd4rnLchhADZ7IikCAGEBoNNa1sD0YQE92m6n4QhhArW9IpxMOGECTcXf0qBYYQAbAIzbS+BdA6xxhd99lGEDsHuriGVkYQNyRZXmgYhhA",
          "dtype": "f8"
         }
        },
        {
         "mode": "lines",
         "name": "Gerçek avg_max_cpu",
         "type": "scatter",
         "x": [
          "1970-01-30T00:00:00.000000000",
          "1970-01-30T00:30:00.000000000",
          "1970-01-30T01:00:00.000000000",
          "1970-01-30T01:30:00.000000000",
          "1970-01-30T02:00:00.000000000",
          "1970-01-30T02:30:00.000000000",
          "1970-01-30T03:00:00.000000000",
          "1970-01-30T03:30:00.000000000",
          "1970-01-30T04:00:00.000000000",
          "1970-01-30T04:30:00.000000000",
          "1970-01-30T05:00:00.000000000",
          "1970-01-30T05:30:00.000000000",
          "1970-01-30T06:00:00.000000000",
          "1970-01-30T06:30:00.000000000",
          "1970-01-30T07:00:00.000000000",
          "1970-01-30T07:30:00.000000000",
          "1970-01-30T08:00:00.000000000",
          "1970-01-30T08:30:00.000000000",
          "1970-01-30T09:00:00.000000000",
          "1970-01-30T09:30:00.000000000",
          "1970-01-30T10:00:00.000000000",
          "1970-01-30T10:30:00.000000000",
          "1970-01-30T11:00:00.000000000",
          "1970-01-30T11:30:00.000000000",
          "1970-01-30T12:00:00.000000000",
          "1970-01-30T12:30:00.000000000",
          "1970-01-30T13:00:00.000000000",
          "1970-01-30T13:30:00.000000000",
          "1970-01-30T14:00:00.000000000",
          "1970-01-30T14:30:00.000000000",
          "1970-01-30T15:00:00.000000000",
          "1970-01-30T15:30:00.000000000",
          "1970-01-30T16:00:00.000000000",
          "1970-01-30T16:30:00.000000000",
          "1970-01-30T17:00:00.000000000",
          "1970-01-30T17:30:00.000000000",
          "1970-01-30T18:00:00.000000000",
          "1970-01-30T18:30:00.000000000",
          "1970-01-30T19:00:00.000000000",
          "1970-01-30T19:30:00.000000000",
          "1970-01-30T20:00:00.000000000",
          "1970-01-30T20:30:00.000000000",
          "1970-01-30T21:00:00.000000000",
          "1970-01-30T21:30:00.000000000",
          "1970-01-30T22:00:00.000000000",
          "1970-01-30T22:30:00.000000000",
          "1970-01-30T23:00:00.000000000",
          "1970-01-30T23:30:00.000000000"
         ],
         "y": {
          "bdata": "nwNloAcaNECwgT1WOmw0QBB0auVa0TNAepXVUMvpM0CvTuMxy8ozQJE5n16UrDNAFBtM352LM0AsxJUipnUzQJKEvHgWWTNAr46SeW7wNEALamYvI6I0QLEvtkptETRAMY7Sf3oYM0Aw7E+jqQIzQE3G27jI0TJAL0n13HewMkCiwgz5y5wyQIegkase5zJAhe8URm6sMkBn7eanLbUyQLvBrswArzJAUeVPzaulMkBRVzkJIJgyQP97lclggTJAP7bhNV5rMkDNE8p++30yQEmrREfQqzJAOEJ2JnvbMkDVx0m9NrQyQNPIzJfHtjJA5WK8vcqrMkCrKhlM3sUyQG0mSiI0njJAQ44RriO7MkDoSG9nf7YyQMsVlBI62DJAgKnBxVHYMkC/s8XSfgIzQJ0ypArr7zJAi6DtyEbzMkDXed63XPAyQFFsj3fJ3DJA1ObZkmXAMkC6DLJwl9YyQJcYy1uX2zJA/l576oswM0DNgsgEUBszQAUhvMCpBjNA",
          "dtype": "f8"
         }
        },
        {
         "line": {
          "dash": "dash"
         },
         "mode": "lines",
         "name": "Tahmin avg_max_cpu",
         "type": "scatter",
         "x": [
          "1970-01-30T00:00:00.000000000",
          "1970-01-30T00:30:00.000000000",
          "1970-01-30T01:00:00.000000000",
          "1970-01-30T01:30:00.000000000",
          "1970-01-30T02:00:00.000000000",
          "1970-01-30T02:30:00.000000000",
          "1970-01-30T03:00:00.000000000",
          "1970-01-30T03:30:00.000000000",
          "1970-01-30T04:00:00.000000000",
          "1970-01-30T04:30:00.000000000",
          "1970-01-30T05:00:00.000000000",
          "1970-01-30T05:30:00.000000000",
          "1970-01-30T06:00:00.000000000",
          "1970-01-30T06:30:00.000000000",
          "1970-01-30T07:00:00.000000000",
          "1970-01-30T07:30:00.000000000",
          "1970-01-30T08:00:00.000000000",
          "1970-01-30T08:30:00.000000000",
          "1970-01-30T09:00:00.000000000",
          "1970-01-30T09:30:00.000000000",
          "1970-01-30T10:00:00.000000000",
          "1970-01-30T10:30:00.000000000",
          "1970-01-30T11:00:00.000000000",
          "1970-01-30T11:30:00.000000000",
          "1970-01-30T12:00:00.000000000",
          "1970-01-30T12:30:00.000000000",
          "1970-01-30T13:00:00.000000000",
          "1970-01-30T13:30:00.000000000",
          "1970-01-30T14:00:00.000000000",
          "1970-01-30T14:30:00.000000000",
          "1970-01-30T15:00:00.000000000",
          "1970-01-30T15:30:00.000000000",
          "1970-01-30T16:00:00.000000000",
          "1970-01-30T16:30:00.000000000",
          "1970-01-30T17:00:00.000000000",
          "1970-01-30T17:30:00.000000000",
          "1970-01-30T18:00:00.000000000",
          "1970-01-30T18:30:00.000000000",
          "1970-01-30T19:00:00.000000000",
          "1970-01-30T19:30:00.000000000",
          "1970-01-30T20:00:00.000000000",
          "1970-01-30T20:30:00.000000000",
          "1970-01-30T21:00:00.000000000",
          "1970-01-30T21:30:00.000000000",
          "1970-01-30T22:00:00.000000000",
          "1970-01-30T22:30:00.000000000",
          "1970-01-30T23:00:00.000000000",
          "1970-01-30T23:30:00.000000000"
         ],
         "y": {
          "bdata": "nN5h8GKxM0CsuPfgu98zQK3kBwm/yjNArwujHB3eM0D2L/Tvm68zQB4blS90nzNAQYVHaxd3M0Bj9HT4/F8zQF4o4YpYSTNAkShZpqfeNEAWP7HszMI0QKZo+D9/BTRAKTFR7XpAM0AmnOnDohozQHA/Y0QeFDNAia0nGT3wMkAtXECgiNMyQAFbv3XmCDNAGvRi1XXiMkBAN2CbdO8yQNanRG7KDDNA4de/bu4EM0BNSO0svQczQDmXzghGFzNAE0OZxREqM0AoGudpFkozQBmK3xk8cjNA5pXM5ueNM0CRHmUMGGEzQOnQNkC+aTNAWAFgUg1jM0BA23+iGm8zQHi5PrtKdjNAQ/7GcT6uM0BlbDBA2pszQEBGbEt0oTNAW6dVXCGcM0AFlo9Th6wzQKQ5zHR2qTNAYLr6SXCfM0DgOM+nvpgzQIxz3ugZmDNAC+hXJuqRM0Cm64b++JszQPjrRz0xkTNAbQLyjkvMM0A6uOXVHa0zQBU06rgusjNA",
          "dtype": "f8"
         }
        },
        {
         "mode": "lines",
         "name": "Gerçek avg_avg_cpu",
         "type": "scatter",
         "x": [
          "1970-01-30T00:00:00.000000000",
          "1970-01-30T00:30:00.000000000",
          "1970-01-30T01:00:00.000000000",
          "1970-01-30T01:30:00.000000000",
          "1970-01-30T02:00:00.000000000",
          "1970-01-30T02:30:00.000000000",
          "1970-01-30T03:00:00.000000000",
          "1970-01-30T03:30:00.000000000",
          "1970-01-30T04:00:00.000000000",
          "1970-01-30T04:30:00.000000000",
          "1970-01-30T05:00:00.000000000",
          "1970-01-30T05:30:00.000000000",
          "1970-01-30T06:00:00.000000000",
          "1970-01-30T06:30:00.000000000",
          "1970-01-30T07:00:00.000000000",
          "1970-01-30T07:30:00.000000000",
          "1970-01-30T08:00:00.000000000",
          "1970-01-30T08:30:00.000000000",
          "1970-01-30T09:00:00.000000000",
          "1970-01-30T09:30:00.000000000",
          "1970-01-30T10:00:00.000000000",
          "1970-01-30T10:30:00.000000000",
          "1970-01-30T11:00:00.000000000",
          "1970-01-30T11:30:00.000000000",
          "1970-01-30T12:00:00.000000000",
          "1970-01-30T12:30:00.000000000",
          "1970-01-30T13:00:00.000000000",
          "1970-01-30T13:30:00.000000000",
          "1970-01-30T14:00:00.000000000",
          "1970-01-30T14:30:00.000000000",
          "1970-01-30T15:00:00.000000000",
          "1970-01-30T15:30:00.000000000",
          "1970-01-30T16:00:00.000000000",
          "1970-01-30T16:30:00.000000000",
          "1970-01-30T17:00:00.000000000",
          "1970-01-30T17:30:00.000000000",
          "1970-01-30T18:00:00.000000000",
          "1970-01-30T18:30:00.000000000",
          "1970-01-30T19:00:00.000000000",
          "1970-01-30T19:30:00.000000000",
          "1970-01-30T20:00:00.000000000",
          "1970-01-30T20:30:00.000000000",
          "1970-01-30T21:00:00.000000000",
          "1970-01-30T21:30:00.000000000",
          "1970-01-30T22:00:00.000000000",
          "1970-01-30T22:30:00.000000000",
          "1970-01-30T23:00:00.000000000",
          "1970-01-30T23:30:00.000000000"
         ],
         "y": {
          "bdata": "bKsSieEQJEAlLFOVcE4kQG96WD7O1CNAB+cDbysGJEBloogrmcojQGvL9OwzvCNAAC+bNGOBI0BljfVLyW4jQFdQqICFMyNAzd28KM4XJEDgOo3jt88jQC43tUv6syNAs7hwdxnrIkDMT02nydkiQDnIvGQzeyJANa5hantlIkBU8xWtAzMiQOPpXqZQfSJAAWLwwTVYIkB524bvKIMiQBYcb9FnXiJA2Si3V/uFIkCjqp/+Mm8iQJ8q9xhHWiJA+ZIJubovIkBQcqt3iVIiQCE/1x40dSJAl8FmAsW8IkCfOjszbaAiQBmX3GstqSJAy0PMDfGFIkBt7090Ib8iQM3mp1CsbyJAeu5lcveCIkAmtdGTjnsiQFhuq1e2riJA0ev0tEyTIkBFW70Fub4iQJz7Sal4rSJA5pvSVhnVIkB+v+xz+bgiQDf3aTLftiJAtXo3feeLIkDpm4Xqd7EiQNkwNx+4pSJAWUsLMxL2IkD9wntD4NsiQKK4wCsu9CJA",
          "dtype": "f8"
         }
        },
        {
         "line": {
          "dash": "dash"
         },
         "mode": "lines",
         "name": "Tahmin avg_avg_cpu",
         "type": "scatter",
         "x": [
          "1970-01-30T00:00:00.000000000",
          "1970-01-30T00:30:00.000000000",
          "1970-01-30T01:00:00.000000000",
          "1970-01-30T01:30:00.000000000",
          "1970-01-30T02:00:00.000000000",
          "1970-01-30T02:30:00.000000000",
          "1970-01-30T03:00:00.000000000",
          "1970-01-30T03:30:00.000000000",
          "1970-01-30T04:00:00.000000000",
          "1970-01-30T04:30:00.000000000",
          "1970-01-30T05:00:00.000000000",
          "1970-01-30T05:30:00.000000000",
          "1970-01-30T06:00:00.000000000",
          "1970-01-30T06:30:00.000000000",
          "1970-01-30T07:00:00.000000000",
          "1970-01-30T07:30:00.000000000",
          "1970-01-30T08:00:00.000000000",
          "1970-01-30T08:30:00.000000000",
          "1970-01-30T09:00:00.000000000",
          "1970-01-30T09:30:00.000000000",
          "1970-01-30T10:00:00.000000000",
          "1970-01-30T10:30:00.000000000",
          "1970-01-30T11:00:00.000000000",
          "1970-01-30T11:30:00.000000000",
          "1970-01-30T12:00:00.000000000",
          "1970-01-30T12:30:00.000000000",
          "1970-01-30T13:00:00.000000000",
          "1970-01-30T13:30:00.000000000",
          "1970-01-30T14:00:00.000000000",
          "1970-01-30T14:30:00.000000000",
          "1970-01-30T15:00:00.000000000",
          "1970-01-30T15:30:00.000000000",
          "1970-01-30T16:00:00.000000000",
          "1970-01-30T16:30:00.000000000",
          "1970-01-30T17:00:00.000000000",
          "1970-01-30T17:30:00.000000000",
          "1970-01-30T18:00:00.000000000",
          "1970-01-30T18:30:00.000000000",
          "1970-01-30T19:00:00.000000000",
          "1970-01-30T19:30:00.000000000",
          "1970-01-30T20:00:00.000000000",
          "1970-01-30T20:30:00.000000000",
          "1970-01-30T21:00:00.000000000",
          "1970-01-30T21:30:00.000000000",
          "1970-01-30T22:00:00.000000000",
          "1970-01-30T22:30:00.000000000",
          "1970-01-30T23:00:00.000000000",
          "1970-01-30T23:30:00.000000000"
         ],
         "y": {
          "bdata": "6vpSxIWeI0AcEqJLjOEjQIHpDy3cxSNAstelRETTI0C6x74Tv3wjQKqBkuvIeyNAW037cVM0I0AZZR/HmBkjQCnkgjAH+iJAQqoZVE/vI0BDNF3MX8YjQJFjhWMbeiNAwI1jfKHqIkAg9hjPstEiQA3wSoPAtyJAxjtNX8+VIkBSR3J45mkiQAXds8lJlSJANSeWYyB/IkCm6pBljKAiQNt+hxR7wyJA6z29F3biIkCSDPhnnfQiQHDPxB8gFiNA9HzJmrgpI0BMRak65WIjQLHuyjRDeiNACcj4+O2PI0CwoHZUeWcjQLuFkjv0eiNAcxzMgj5hI0CfLrS2L3cjQPh9VJOQbSNA8+XOYf+fI0Al8Pkp7YIjQDZ+1Rm5jSNABGIfc3dzI0AVFwsewoojQGzHHy7sjCNAJumwsW2LI0Bk/uNf3GAjQM1qJoEiZCNAV3dCi0FOI0Cl+vbGw1gjQBdFB7DQTCNAUl3uOzSjI0BPXaf93JIjQGKMrDvrnCNA",
          "dtype": "f8"
         }
        }
       ],
       "layout": {
        "template": {
         "data": {
          "bar": [
           {
            "error_x": {
             "color": "#2a3f5f"
            },
            "error_y": {
             "color": "#2a3f5f"
            },
            "marker": {
             "line": {
              "color": "#E5ECF6",
              "width": 0.5
             },
             "pattern": {
              "fillmode": "overlay",
              "size": 10,
              "solidity": 0.2
             }
            },
            "type": "bar"
           }
          ],
          "barpolar": [
           {
            "marker": {
             "line": {
              "color": "#E5ECF6",
              "width": 0.5
             },
             "pattern": {
              "fillmode": "overlay",
              "size": 10,
              "solidity": 0.2
             }
            },
            "type": "barpolar"
           }
          ],
          "carpet": [
           {
            "aaxis": {
             "endlinecolor": "#2a3f5f",
             "gridcolor": "white",
             "linecolor": "white",
             "minorgridcolor": "white",
             "startlinecolor": "#2a3f5f"
            },
            "baxis": {
             "endlinecolor": "#2a3f5f",
             "gridcolor": "white",
             "linecolor": "white",
             "minorgridcolor": "white",
             "startlinecolor": "#2a3f5f"
            },
            "type": "carpet"
           }
          ],
          "choropleth": [
           {
            "colorbar": {
             "outlinewidth": 0,
             "ticks": ""
            },
            "type": "choropleth"
           }
          ],
          "contour": [
           {
            "colorbar": {
             "outlinewidth": 0,
             "ticks": ""
            },
            "colorscale": [
             [
              0,
              "#0d0887"
             ],
             [
              0.1111111111111111,
              "#46039f"
             ],
             [
              0.2222222222222222,
              "#7201a8"
             ],
             [
              0.3333333333333333,
              "#9c179e"
             ],
             [
              0.4444444444444444,
              "#bd3786"
             ],
             [
              0.5555555555555556,
              "#d8576b"
             ],
             [
              0.6666666666666666,
              "#ed7953"
             ],
             [
              0.7777777777777778,
              "#fb9f3a"
             ],
             [
              0.8888888888888888,
              "#fdca26"
             ],
             [
              1,
              "#f0f921"
             ]
            ],
            "type": "contour"
           }
          ],
          "contourcarpet": [
           {
            "colorbar": {
             "outlinewidth": 0,
             "ticks": ""
            },
            "type": "contourcarpet"
           }
          ],
          "heatmap": [
           {
            "colorbar": {
             "outlinewidth": 0,
             "ticks": ""
            },
            "colorscale": [
             [
              0,
              "#0d0887"
             ],
             [
              0.1111111111111111,
              "#46039f"
             ],
             [
              0.2222222222222222,
              "#7201a8"
             ],
             [
              0.3333333333333333,
              "#9c179e"
             ],
             [
              0.4444444444444444,
              "#bd3786"
             ],
             [
              0.5555555555555556,
              "#d8576b"
             ],
             [
              0.6666666666666666,
              "#ed7953"
             ],
             [
              0.7777777777777778,
              "#fb9f3a"
             ],
             [
              0.8888888888888888,
              "#fdca26"
             ],
             [
              1,
              "#f0f921"
             ]
            ],
            "type": "heatmap"
           }
          ],
          "histogram": [
           {
            "marker": {
             "pattern": {
              "fillmode": "overlay",
              "size": 10,
              "solidity": 0.2
             }
            },
            "type": "histogram"
           }
          ],
          "histogram2d": [
           {
            "colorbar": {
             "outlinewidth": 0,
             "ticks": ""
            },
            "colorscale": [
             [
              0,
              "#0d0887"
             ],
             [
              0.1111111111111111,
              "#46039f"
             ],
             [
              0.2222222222222222,
              "#7201a8"
             ],
             [
              0.3333333333333333,
              "#9c179e"
             ],
             [
              0.4444444444444444,
              "#bd3786"
             ],
             [
              0.5555555555555556,
              "#d8576b"
             ],
             [
              0.6666666666666666,
              "#ed7953"
             ],
             [
              0.7777777777777778,
              "#fb9f3a"
             ],
             [
              0.8888888888888888,
              "#fdca26"
             ],
             [
              1,
              "#f0f921"
             ]
            ],
            "type": "histogram2d"
           }
          ],
          "histogram2dcontour": [
           {
            "colorbar": {
             "outlinewidth": 0,
             "ticks": ""
            },
            "colorscale": [
             [
              0,
              "#0d0887"
             ],
             [
              0.1111111111111111,
              "#46039f"
             ],
             [
              0.2222222222222222,
              "#7201a8"
             ],
             [
              0.3333333333333333,
              "#9c179e"
             ],
             [
              0.4444444444444444,
              "#bd3786"
             ],
             [
              0.5555555555555556,
              "#d8576b"
             ],
             [
              0.6666666666666666,
              "#ed7953"
             ],
             [
              0.7777777777777778,
              "#fb9f3a"
             ],
             [
              0.8888888888888888,
              "#fdca26"
             ],
             [
              1,
              "#f0f921"
             ]
            ],
            "type": "histogram2dcontour"
           }
          ],
          "mesh3d": [
           {
            "colorbar": {
             "outlinewidth": 0,
             "ticks": ""
            },
            "type": "mesh3d"
           }
          ],
          "parcoords": [
           {
            "line": {
             "colorbar": {
              "outlinewidth": 0,
              "ticks": ""
             }
            },
            "type": "parcoords"
           }
          ],
          "pie": [
           {
            "automargin": true,
            "type": "pie"
           }
          ],
          "scatter": [
           {
            "fillpattern": {
             "fillmode": "overlay",
             "size": 10,
             "solidity": 0.2
            },
            "type": "scatter"
           }
          ],
          "scatter3d": [
           {
            "line": {
             "colorbar": {
              "outlinewidth": 0,
              "ticks": ""
             }
            },
            "marker": {
             "colorbar": {
              "outlinewidth": 0,
              "ticks": ""
             }
            },
            "type": "scatter3d"
           }
          ],
          "scattercarpet": [
           {
            "marker": {
             "colorbar": {
              "outlinewidth": 0,
              "ticks": ""
             }
            },
            "type": "scattercarpet"
           }
          ],
          "scattergeo": [
           {
            "marker": {
             "colorbar": {
              "outlinewidth": 0,
              "ticks": ""
             }
            },
            "type": "scattergeo"
           }
          ],
          "scattergl": [
           {
            "marker": {
             "colorbar": {
              "outlinewidth": 0,
              "ticks": ""
             }
            },
            "type": "scattergl"
           }
          ],
          "scattermap": [
           {
            "marker": {
             "colorbar": {
              "outlinewidth": 0,
              "ticks": ""
             }
            },
            "type": "scattermap"
           }
          ],
          "scattermapbox": [
           {
            "marker": {
             "colorbar": {
              "outlinewidth": 0,
              "ticks": ""
             }
            },
            "type": "scattermapbox"
           }
          ],
          "scatterpolar": [
           {
            "marker": {
             "colorbar": {
              "outlinewidth": 0,
              "ticks": ""
             }
            },
            "type": "scatterpolar"
           }
          ],
          "scatterpolargl": [
           {
            "marker": {
             "colorbar": {
              "outlinewidth": 0,
              "ticks": ""
             }
            },
            "type": "scatterpolargl"
           }
          ],
          "scatterternary": [
           {
            "marker": {
             "colorbar": {
              "outlinewidth": 0,
              "ticks": ""
             }
            },
            "type": "scatterternary"
           }
          ],
          "surface": [
           {
            "colorbar": {
             "outlinewidth": 0,
             "ticks": ""
            },
            "colorscale": [
             [
              0,
              "#0d0887"
             ],
             [
              0.1111111111111111,
              "#46039f"
             ],
             [
              0.2222222222222222,
              "#7201a8"
             ],
             [
              0.3333333333333333,
              "#9c179e"
             ],
             [
              0.4444444444444444,
              "#bd3786"
             ],
             [
              0.5555555555555556,
              "#d8576b"
             ],
             [
              0.6666666666666666,
              "#ed7953"
             ],
             [
              0.7777777777777778,
              "#fb9f3a"
             ],
             [
              0.8888888888888888,
              "#fdca26"
             ],
             [
              1,
              "#f0f921"
             ]
            ],
            "type": "surface"
           }
          ],
          "table": [
           {
            "cells": {
             "fill": {
              "color": "#EBF0F8"
             },
             "line": {
              "color": "white"
             }
            },
            "header": {
             "fill": {
              "color": "#C8D4E3"
             },
             "line": {
              "color": "white"
             }
            },
            "type": "table"
           }
          ]
         },
         "layout": {
          "annotationdefaults": {
           "arrowcolor": "#2a3f5f",
           "arrowhead": 0,
           "arrowwidth": 1
          },
          "autotypenumbers": "strict",
          "coloraxis": {
           "colorbar": {
            "outlinewidth": 0,
            "ticks": ""
           }
          },
          "colorscale": {
           "diverging": [
            [
             0,
             "#8e0152"
            ],
            [
             0.1,
             "#c51b7d"
            ],
            [
             0.2,
             "#de77ae"
            ],
            [
             0.3,
             "#f1b6da"
            ],
            [
             0.4,
             "#fde0ef"
            ],
            [
             0.5,
             "#f7f7f7"
            ],
            [
             0.6,
             "#e6f5d0"
            ],
            [
             0.7,
             "#b8e186"
            ],
            [
             0.8,
             "#7fbc41"
            ],
            [
             0.9,
             "#4d9221"
            ],
            [
             1,
             "#276419"
            ]
           ],
           "sequential": [
            [
             0,
             "#0d0887"
            ],
            [
             0.1111111111111111,
             "#46039f"
            ],
            [
             0.2222222222222222,
             "#7201a8"
            ],
            [
             0.3333333333333333,
             "#9c179e"
            ],
            [
             0.4444444444444444,
             "#bd3786"
            ],
            [
             0.5555555555555556,
             "#d8576b"
            ],
            [
             0.6666666666666666,
             "#ed7953"
            ],
            [
             0.7777777777777778,
             "#fb9f3a"
            ],
            [
             0.8888888888888888,
             "#fdca26"
            ],
            [
             1,
             "#f0f921"
            ]
           ],
           "sequentialminus": [
            [
             0,
             "#0d0887"
            ],
            [
             0.1111111111111111,
             "#46039f"
            ],
            [
             0.2222222222222222,
             "#7201a8"
            ],
            [
             0.3333333333333333,
             "#9c179e"
            ],
            [
             0.4444444444444444,
             "#bd3786"
            ],
            [
             0.5555555555555556,
             "#d8576b"
            ],
            [
             0.6666666666666666,
             "#ed7953"
            ],
            [
             0.7777777777777778,
             "#fb9f3a"
            ],
            [
             0.8888888888888888,
             "#fdca26"
            ],
            [
             1,
             "#f0f921"
            ]
           ]
          },
          "colorway": [
           "#636efa",
           "#EF553B",
           "#00cc96",
           "#ab63fa",
           "#FFA15A",
           "#19d3f3",
           "#FF6692",
           "#B6E880",
           "#FF97FF",
           "#FECB52"
          ],
          "font": {
           "color": "#2a3f5f"
          },
          "geo": {
           "bgcolor": "white",
           "lakecolor": "white",
           "landcolor": "#E5ECF6",
           "showlakes": true,
           "showland": true,
           "subunitcolor": "white"
          },
          "hoverlabel": {
           "align": "left"
          },
          "hovermode": "closest",
          "mapbox": {
           "style": "light"
          },
          "paper_bgcolor": "white",
          "plot_bgcolor": "#E5ECF6",
          "polar": {
           "angularaxis": {
            "gridcolor": "white",
            "linecolor": "white",
            "ticks": ""
           },
           "bgcolor": "#E5ECF6",
           "radialaxis": {
            "gridcolor": "white",
            "linecolor": "white",
            "ticks": ""
           }
          },
          "scene": {
           "xaxis": {
            "backgroundcolor": "#E5ECF6",
            "gridcolor": "white",
            "gridwidth": 2,
            "linecolor": "white",
            "showbackground": true,
            "ticks": "",
            "zerolinecolor": "white"
           },
           "yaxis": {
            "backgroundcolor": "#E5ECF6",
            "gridcolor": "white",
            "gridwidth": 2,
            "linecolor": "white",
            "showbackground": true,
            "ticks": "",
            "zerolinecolor": "white"
           },
           "zaxis": {
            "backgroundcolor": "#E5ECF6",
            "gridcolor": "white",
            "gridwidth": 2,
            "linecolor": "white",
            "showbackground": true,
            "ticks": "",
            "zerolinecolor": "white"
           }
          },
          "shapedefaults": {
           "line": {
            "color": "#2a3f5f"
           }
          },
          "ternary": {
           "aaxis": {
            "gridcolor": "white",
            "linecolor": "white",
            "ticks": ""
           },
           "baxis": {
            "gridcolor": "white",
            "linecolor": "white",
            "ticks": ""
           },
           "bgcolor": "#E5ECF6",
           "caxis": {
            "gridcolor": "white",
            "linecolor": "white",
            "ticks": ""
           }
          },
          "title": {
           "x": 0.05
          },
          "xaxis": {
           "automargin": true,
           "gridcolor": "white",
           "linecolor": "white",
           "ticks": "",
           "title": {
            "standoff": 15
           },
           "zerolinecolor": "white",
           "zerolinewidth": 2
          },
          "yaxis": {
           "automargin": true,
           "gridcolor": "white",
           "linecolor": "white",
           "ticks": "",
           "title": {
            "standoff": 15
           },
           "zerolinecolor": "white",
           "zerolinewidth": 2
          }
         }
        },
        "title": {
         "text": "CPU Metrikleri: Gerçek Değerler vs. SARIMA Tahminleri"
        },
        "xaxis": {
         "title": {
          "text": "Zaman"
         }
        },
        "yaxis": {
         "title": {
          "text": "Ortalama CPU Yükü (%)"
         }
        }
       }
      }
     },
     "metadata": {},
     "output_type": "display_data"
    }
   ],
   "source": [
    "print(\"Tüm metrikler için sonuçlar görselleştiriliyor...\")\n",
    "\n",
    "fig = go.Figure()\n",
    "\n",
    "# Her bir metrik için gerçek ve tahmin değerlerini çiz\n",
    "for column in target_columns:\n",
    "    # Gerçek Değerler (Test)\n",
    "    fig.add_trace(go.Scatter(\n",
    "        x=test_data.index,\n",
    "        y=test_data[column],\n",
    "        mode='lines',\n",
    "        name=f'Gerçek {column}'\n",
    "    ))\n",
    "    \n",
    "    # Model Tahminleri\n",
    "    fig.add_trace(go.Scatter(\n",
    "        x=all_results[column]['predictions'].index,\n",
    "        y=all_results[column]['predictions'].values,\n",
    "        mode='lines',\n",
    "        name=f'Tahmin {column}',\n",
    "        line=dict(dash='dash') # Tahmin çizgilerini kesikli yap\n",
    "    ))\n",
    "\n",
    "fig.update_layout(\n",
    "    title='CPU Metrikleri: Gerçek Değerler vs. SARIMA Tahminleri',\n",
    "    xaxis_title='Zaman',\n",
    "    yaxis_title='Ortalama CPU Yükü (%)'\n",
    ")\n",
    "\n",
    "fig.show()"
   ]
  }
 ],
 "metadata": {
  "kernelspec": {
   "display_name": "bites_cpu_venv",
   "language": "python",
   "name": "python3"
  },
  "language_info": {
   "codemirror_mode": {
    "name": "ipython",
    "version": 3
   },
   "file_extension": ".py",
   "mimetype": "text/x-python",
   "name": "python",
   "nbconvert_exporter": "python",
   "pygments_lexer": "ipython3",
   "version": "3.10.12"
  }
 },
 "nbformat": 4,
 "nbformat_minor": 5
}
