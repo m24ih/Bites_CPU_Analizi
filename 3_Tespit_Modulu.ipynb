{
 "cells": [
  {
   "cell_type": "markdown",
   "id": "2bef28e6",
   "metadata": {},
   "source": [
    "# Anormal Durum (Aşırı CPU Kullanımı) Tespit Modülü"
   ]
  },
  {
   "cell_type": "code",
   "execution_count": 1,
   "id": "a3946098",
   "metadata": {},
   "outputs": [],
   "source": [
    "# --- Genel Kütüphaneler ---\n",
    "import pandas as pd\n",
    "import numpy as np\n",
    "import os\n",
    "import plotly.express as px\n",
    "\n",
    "# --- Tespit Modeli İçin Kütüphaneler ---\n",
    "from sklearn.model_selection import train_test_split\n",
    "from sklearn.tree import DecisionTreeClassifier\n",
    "from sklearn.ensemble import RandomForestClassifier\n",
    "from sklearn.metrics import accuracy_score, classification_report, confusion_matrix"
   ]
  },
  {
   "cell_type": "markdown",
   "id": "b2d301c0",
   "metadata": {},
   "source": [
    "## Adım 1: Veri Yükleme ve Etiketleme"
   ]
  },
  {
   "cell_type": "code",
   "execution_count": null,
   "id": "29292854",
   "metadata": {},
   "outputs": [
    {
     "name": "stdout",
     "output_type": "stream",
     "text": [
      "Anormallik tespiti için ham veri yükleniyor...\n",
      "- 'vm_cpu_readings-file-1-of-195.csv.gz' okundu.\n",
      "- 'vm_cpu_readings-file-2-of-195.csv.gz' okundu.\n",
      "- 'vm_cpu_readings-file-3-of-195.csv.gz' okundu.\n",
      "- 'vm_cpu_readings-file-4-of-195.csv.gz' okundu.\n",
      "- 'vm_cpu_readings-file-5-of-195.csv.gz' okundu.\n",
      "\n",
      "--- Tüm ham veriler başarıyla birleştirildi! ---\n",
      "<class 'pandas.core.frame.DataFrame'>\n",
      "RangeIndex: 50000000 entries, 0 to 49999999\n",
      "Data columns (total 5 columns):\n",
      " #   Column     Dtype  \n",
      "---  ------     -----  \n",
      " 0   timestamp  int64  \n",
      " 1   vmId       object \n",
      " 2   min_cpu    float64\n",
      " 3   max_cpu    float64\n",
      " 4   avg_cpu    float64\n",
      "dtypes: float64(3), int64(1), object(1)\n",
      "memory usage: 1.9+ GB\n"
     ]
    }
   ],
   "source": [
    "print(\"Anormallik tespiti için ham veri yükleniyor...\")\n",
    "DATA_PATH = 'data'\n",
    "# Analiz için ilk 5 dosya \n",
    "FILES_TO_READ = [f\"vm_cpu_readings-file-{i}-of-195.csv.gz\" for i in range(1, 6)]\n",
    "COLUMN_NAMES = ['timestamp', 'vmId', 'min_cpu', 'max_cpu', 'avg_cpu']\n",
    "\n",
    "df_list = []\n",
    "\n",
    "for file_name in FILES_TO_READ:\n",
    "    full_path = os.path.join(DATA_PATH, file_name)\n",
    "    if os.path.exists(full_path):\n",
    "        temp_df = pd.read_csv(full_path, header=None, names=COLUMN_NAMES, compression='gzip')\n",
    "        df_list.append(temp_df)\n",
    "        print(f\"- '{file_name}' okundu.\")\n",
    "\n",
    "if df_list:\n",
    "    df_raw = pd.concat(df_list, ignore_index=True)\n",
    "    print(\"\\n--- Tüm ham veriler başarıyla birleştirildi! ---\")\n",
    "    df_raw.info()\n",
    "else:\n",
    "    print(\"\\nOkunacak veri dosyası bulunamadı. Lütfen 'data' klasörünü kontrol edin.\")"
   ]
  },
  {
   "cell_type": "markdown",
   "id": "21d395c6",
   "metadata": {},
   "source": [
    "## Adım 2: Veri Etiketleme ve Hazırlama"
   ]
  },
  {
   "cell_type": "code",
   "execution_count": null,
   "id": "815df0b9",
   "metadata": {},
   "outputs": [
    {
     "name": "stdout",
     "output_type": "stream",
     "text": [
      "Etiket Dağılımı:\n",
      "etiket\n",
      "0    49606582\n",
      "1      393418\n",
      "Name: count, dtype: int64\n",
      "\n",
      "Eğitim seti boyutu: (35000000, 3)\n",
      "Test seti boyutu: (15000000, 3)\n"
     ]
    }
   ],
   "source": [
    "# Etiketleme için bir eşik değeri\n",
    "anomaly_threshold = 90  # %90 CPU kullanımı\n",
    "\n",
    "# Yeni bir 'etiket' sütunu oluşturalım (1 = Anormal, 0 = Normal)\n",
    "df_raw['etiket'] = (df_raw['avg_cpu'] >= anomaly_threshold).astype(int)\n",
    "\n",
    "print(\"Etiket Dağılımı:\")\n",
    "print(df_raw['etiket'].value_counts())\n",
    "\n",
    "# Özellik (Feature) ve Hedef (Target) Belirleme\n",
    "X = df_raw[['min_cpu', 'max_cpu', 'avg_cpu']]\n",
    "y = df_raw['etiket']\n",
    "\n",
    "# Veriyi eğitim ve test setlerine ayırma\n",
    "X_train, X_test, y_train, y_test = train_test_split(X, y, test_size=0.3, random_state=42, stratify=y)\n",
    "\n",
    "print(\"\\nEğitim seti boyutu:\", X_train.shape)\n",
    "print(\"Test seti boyutu:\", X_test.shape)"
   ]
  },
  {
   "cell_type": "markdown",
   "id": "a5e5fb28",
   "metadata": {},
   "source": [
    "## Adım 3: Karar Ağacı Modelini Kurma, Eğitme ve Değerlendirme"
   ]
  },
  {
   "cell_type": "code",
   "execution_count": 4,
   "id": "717b1a49",
   "metadata": {},
   "outputs": [
    {
     "name": "stdout",
     "output_type": "stream",
     "text": [
      "Karar Ağacı modeli eğitiliyor...\n",
      "Eğitim tamamlandı.\n",
      "\n",
      "--- Model Performansı ---\n",
      "Doğruluk (Accuracy): 1.000\n",
      "\n",
      "Sınıflandırma Raporu:\n",
      "              precision    recall  f1-score   support\n",
      "\n",
      "  Normal (0)       1.00      1.00      1.00  29784524\n",
      " Anormal (1)       1.00      1.00      1.00    215476\n",
      "\n",
      "    accuracy                           1.00  30000000\n",
      "   macro avg       1.00      1.00      1.00  30000000\n",
      "weighted avg       1.00      1.00      1.00  30000000\n",
      "\n",
      "\n",
      "Karmaşıklık Matrisi:\n",
      "[[29784524        0]\n",
      " [       0   215476]]\n"
     ]
    }
   ],
   "source": [
    "# Karar Ağacı Sınıflandırıcısı modelini oluşturalım ve eğitelim\n",
    "# max_depth parametresi, ağacın ne kadar derinleşeceğini kontrol ederek ezberlemeyi (overfitting) önler.\n",
    "clf = DecisionTreeClassifier(max_depth=5, random_state=42)\n",
    "\n",
    "print(\"Karar Ağacı modeli eğitiliyor...\")\n",
    "clf.fit(X_train, y_train)\n",
    "print(\"Eğitim tamamlandı.\")\n",
    "\n",
    "# Modelin test verisi üzerinde tahmin yapmasını sağlayalım\n",
    "y_pred = clf.predict(X_test)\n",
    "\n",
    "# Modelin performansını metriklerle değerlendirelim\n",
    "print(\"\\n--- Model Performansı ---\")\n",
    "print(f\"Doğruluk (Accuracy): {accuracy_score(y_test, y_pred):.3f}\")\n",
    "\n",
    "# Sınıflandırma Raporu (Precision, Recall, F1-Score)\n",
    "# Bu metrikler, özellikle 'Anormal' sınıfı gibi az sayıda olan sınıflar için daha anlamlıdır.\n",
    "print(\"\\nSınıflandırma Raporu:\")\n",
    "print(classification_report(y_test, y_pred, target_names=['Normal (0)', 'Anormal (1)']))\n",
    "\n",
    "# Karmaşıklık Matrisi (Confusion Matrix)\n",
    "# Modelin neleri doğru, neleri yanlış sınıflandırdığını detaylıca gösterir.\n",
    "print(\"\\nKarmaşıklık Matrisi:\")\n",
    "cm = confusion_matrix(y_test, y_pred)\n",
    "print(cm)"
   ]
  },
  {
   "cell_type": "markdown",
   "id": "33b7f66b",
   "metadata": {},
   "source": [
    "## Adım 4: Rastgele Orman Modelini Kurma, Eğitme ve Değerlendirme"
   ]
  },
  {
   "cell_type": "code",
   "execution_count": 4,
   "id": "0ff240db",
   "metadata": {},
   "outputs": [
    {
     "name": "stdout",
     "output_type": "stream",
     "text": [
      "Random Forest modeli eğitiliyor...\n",
      "Eğitim tamamlandı.\n",
      "\n",
      "--- Random Forest Model Performansı ---\n",
      "Doğruluk (Accuracy): 1.000\n",
      "\n",
      "Sınıflandırma Raporu:\n",
      "              precision    recall  f1-score   support\n",
      "\n",
      "  Normal (0)       1.00      1.00      1.00  14881975\n",
      " Anormal (1)       1.00      1.00      1.00    118025\n",
      "\n",
      "    accuracy                           1.00  15000000\n",
      "   macro avg       1.00      1.00      1.00  15000000\n",
      "weighted avg       1.00      1.00      1.00  15000000\n",
      "\n",
      "\n",
      "Karmaşıklık Matrisi:\n",
      "[[14881975        0]\n",
      " [       1   118024]]\n"
     ]
    }
   ],
   "source": [
    "\n",
    "# Random Forest Sınıflandırıcısı modelini oluşturalım\n",
    "# n_estimators: Ormandaki ağaç sayısı\n",
    "# max_depth: Her bir ağacın maksimum derinliği\n",
    "rf_clf = RandomForestClassifier(n_estimators=100, max_depth=10, random_state=42, n_jobs=-1)\n",
    "\n",
    "print(\"Random Forest modeli eğitiliyor...\")\n",
    "# Modeli eğitim verisiyle eğitelim\n",
    "rf_clf.fit(X_train, y_train)\n",
    "print(\"Eğitim tamamlandı.\")\n",
    "\n",
    "# Modelin test verisi üzerinde tahmin yapmasını sağlayalım\n",
    "y_pred_rf = rf_clf.predict(X_test)\n",
    "\n",
    "# Modelin performansını metriklerle değerlendirelim\n",
    "print(\"\\n--- Random Forest Model Performansı ---\")\n",
    "print(f\"Doğruluk (Accuracy): {accuracy_score(y_test, y_pred_rf):.3f}\")\n",
    "print(\"\\nSınıflandırma Raporu:\")\n",
    "print(classification_report(y_test, y_pred_rf, target_names=['Normal (0)', 'Anormal (1)']))\n",
    "print(\"\\nKarmaşıklık Matrisi:\")\n",
    "print(confusion_matrix(y_test, y_pred_rf))"
   ]
  }
 ],
 "metadata": {
  "kernelspec": {
   "display_name": "bites_cpu_venv",
   "language": "python",
   "name": "python3"
  },
  "language_info": {
   "codemirror_mode": {
    "name": "ipython",
    "version": 3
   },
   "file_extension": ".py",
   "mimetype": "text/x-python",
   "name": "python",
   "nbconvert_exporter": "python",
   "pygments_lexer": "ipython3",
   "version": "3.13.5"
  }
 },
 "nbformat": 4,
 "nbformat_minor": 5
}
