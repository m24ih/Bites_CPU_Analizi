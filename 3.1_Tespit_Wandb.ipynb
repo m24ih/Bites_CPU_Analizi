{
 "cells": [
  {
   "cell_type": "code",
   "execution_count": 1,
   "id": "ca575e03",
   "metadata": {},
   "outputs": [],
   "source": [
    "import pandas as pd\n",
    "import numpy as np\n",
    "import os\n",
    "import wandb\n",
    "import joblib\n",
    "\n",
    "# Sınıflandırma modeli ve metrikleri için\n",
    "from sklearn.model_selection import train_test_split\n",
    "from sklearn.tree import DecisionTreeClassifier\n",
    "from sklearn.ensemble import RandomForestClassifier\n",
    "from sklearn.metrics import classification_report, confusion_matrix"
   ]
  },
  {
   "cell_type": "code",
   "execution_count": 2,
   "id": "25914db5",
   "metadata": {},
   "outputs": [
    {
     "name": "stdout",
     "output_type": "stream",
     "text": [
      "Veri setleri anormallik tespiti için hazır.\n",
      "Etiket Dağılımı (Tüm Veri):\n",
      "etiket\n",
      "0    0.992132\n",
      "1    0.007868\n",
      "Name: proportion, dtype: float64\n"
     ]
    }
   ],
   "source": [
    "# Ham veriyi yükle (ilk 10 dosya ile)\n",
    "DATA_PATH = 'data'\n",
    "FILES_TO_READ = [f\"vm_cpu_readings-file-{i}-of-195.csv.gz\" for i in range(1, 6)]\n",
    "COLUMN_NAMES = ['timestamp', 'vmId', 'min_cpu', 'max_cpu', 'avg_cpu']\n",
    "df_list = []\n",
    "for file_name in FILES_TO_READ:\n",
    "    full_path = os.path.join(DATA_PATH, file_name)\n",
    "    if os.path.exists(full_path):\n",
    "        temp_df = pd.read_csv(full_path, header=None, names=COLUMN_NAMES, compression='gzip')\n",
    "        df_list.append(temp_df)\n",
    "df_raw = pd.concat(df_list, ignore_index=True)\n",
    "\n",
    "# Veriyi etiketle\n",
    "anomaly_threshold = 90\n",
    "df_raw['etiket'] = (df_raw['avg_cpu'] >= anomaly_threshold).astype(int)\n",
    "\n",
    "# Özellik (Feature) ve Hedef (Target) Belirle\n",
    "X = df_raw[['min_cpu', 'max_cpu', 'avg_cpu']]\n",
    "y = df_raw['etiket']\n",
    "\n",
    "# Veriyi eğitim ve test setlerine ayır\n",
    "X_train, X_test, y_train, y_test = train_test_split(X, y, test_size=0.3, random_state=42, stratify=y)\n",
    "\n",
    "print(\"Veri setleri anormallik tespiti için hazır.\")\n",
    "print(\"Etiket Dağılımı (Tüm Veri):\")\n",
    "print(y.value_counts(normalize=True))"
   ]
  },
  {
   "cell_type": "code",
   "execution_count": 3,
   "id": "f8c2f139",
   "metadata": {},
   "outputs": [],
   "source": [
    "def run_detection_experiment(config):\n",
    "    # 1. WandB Deneyini Başlat\n",
    "    run = wandb.init(project=\"bites-cpu-detection\", config=config, reinit=True)\n",
    "    \n",
    "    # 2. Config'e göre modeli seç ve oluştur\n",
    "    if config['model_type'] == 'DecisionTree':\n",
    "        model = DecisionTreeClassifier(\n",
    "            max_depth=config['max_depth'],\n",
    "            random_state=42\n",
    "        )\n",
    "    elif config['model_type'] == 'RandomForest':\n",
    "        model = RandomForestClassifier(\n",
    "            n_estimators=config['n_estimators'],\n",
    "            max_depth=config['max_depth'],\n",
    "            random_state=42,\n",
    "            n_jobs=-1\n",
    "        )\n",
    "    else:\n",
    "        raise ValueError(\"Desteklenmeyen model tipi\")\n",
    "\n",
    "    # 3. Modeli eğit\n",
    "    print(f\"\\n--- Deney Başladı: {run.name} ({config['model_type']}) ---\")\n",
    "    model.fit(X_train, y_train)\n",
    "    print(\"Eğitim tamamlandı.\")\n",
    "\n",
    "    # Her deneye özel bir dosya adı oluşturalım\n",
    "    model_filename = f\"model_path/{config['model_type']}_{run.name}.joblib\"\n",
    "    joblib.dump(model, model_filename)\n",
    "    print(f\"Model '{model_filename}' olarak diske kaydedildi.\")\n",
    "    \n",
    "    # Modeli bir \"artifact\" olarak WandB'ye de kaydedelim\n",
    "    wandb.save(model_filename)\n",
    "    # --- BİTTİ ---\n",
    "\n",
    "    # 4. Tahmin yap\n",
    "    y_pred = model.predict(X_test)\n",
    "    y_probas = model.predict_proba(X_test)\n",
    "    \n",
    "    # 5. Metrikleri hesapla ve WandB'ye logla\n",
    "    report = classification_report(y_test, y_pred, output_dict=True, target_names=['Normal', 'Anormal'])\n",
    "    \n",
    "    wandb.log({\n",
    "        \"accuracy\": report['accuracy'],\n",
    "        \"precision_anormal\": report['Anormal']['precision'],\n",
    "        \"recall_anormal\": report['Anormal']['recall'],\n",
    "        \"f1_score_anormal\": report['Anormal']['f1-score']\n",
    "    })\n",
    "    \n",
    "    wandb.log({\"conf_mat\" : wandb.plot.confusion_matrix(\n",
    "        probs=y_probas,\n",
    "        y_true=y_test.to_numpy(),\n",
    "        class_names=['Normal', 'Anormal']\n",
    "    )})\n",
    "    \n",
    "    print(f\"'{config['model_type']}' için metrikler WandB'ye loglandı.\")\n",
    "    \n",
    "    # 6. Deneyi bitir\n",
    "    run.finish()"
   ]
  },
  {
   "cell_type": "code",
   "execution_count": 4,
   "id": "1dfa21ba",
   "metadata": {},
   "outputs": [
    {
     "name": "stderr",
     "output_type": "stream",
     "text": [
      "\u001b[34m\u001b[1mwandb\u001b[0m: Currently logged in as: \u001b[33mmelihak635442\u001b[0m (\u001b[33mmelihak635442-bites\u001b[0m) to \u001b[32mhttps://api.wandb.ai\u001b[0m. Use \u001b[1m`wandb login --relogin`\u001b[0m to force relogin\n",
      "\u001b[34m\u001b[1mwandb\u001b[0m: \u001b[33mWARNING\u001b[0m Using a boolean value for 'reinit' is deprecated. Use 'return_previous' or 'finish_previous' instead.\n"
     ]
    },
    {
     "data": {
      "text/html": [
       "Tracking run with wandb version 0.21.0"
      ],
      "text/plain": [
       "<IPython.core.display.HTML object>"
      ]
     },
     "metadata": {},
     "output_type": "display_data"
    },
    {
     "data": {
      "text/html": [
       "Run data is saved locally in <code>/home/melih/Documents/Bites_CPU_Analizi/wandb/run-20250731_160311-n8dcg0cx</code>"
      ],
      "text/plain": [
       "<IPython.core.display.HTML object>"
      ]
     },
     "metadata": {},
     "output_type": "display_data"
    },
    {
     "data": {
      "text/html": [
       "Syncing run <strong><a href='https://wandb.ai/melihak635442-bites/bites-cpu-detection/runs/n8dcg0cx' target=\"_blank\">stellar-butterfly-7</a></strong> to <a href='https://wandb.ai/melihak635442-bites/bites-cpu-detection' target=\"_blank\">Weights & Biases</a> (<a href='https://wandb.me/developer-guide' target=\"_blank\">docs</a>)<br>"
      ],
      "text/plain": [
       "<IPython.core.display.HTML object>"
      ]
     },
     "metadata": {},
     "output_type": "display_data"
    },
    {
     "data": {
      "text/html": [
       " View project at <a href='https://wandb.ai/melihak635442-bites/bites-cpu-detection' target=\"_blank\">https://wandb.ai/melihak635442-bites/bites-cpu-detection</a>"
      ],
      "text/plain": [
       "<IPython.core.display.HTML object>"
      ]
     },
     "metadata": {},
     "output_type": "display_data"
    },
    {
     "data": {
      "text/html": [
       " View run at <a href='https://wandb.ai/melihak635442-bites/bites-cpu-detection/runs/n8dcg0cx' target=\"_blank\">https://wandb.ai/melihak635442-bites/bites-cpu-detection/runs/n8dcg0cx</a>"
      ],
      "text/plain": [
       "<IPython.core.display.HTML object>"
      ]
     },
     "metadata": {},
     "output_type": "display_data"
    },
    {
     "name": "stdout",
     "output_type": "stream",
     "text": [
      "\n",
      "--- Deney Başladı: stellar-butterfly-7 (DecisionTree) ---\n",
      "Eğitim tamamlandı.\n",
      "Model 'model_path/DecisionTree_stellar-butterfly-7.joblib' olarak diske kaydedildi.\n",
      "'DecisionTree' için metrikler WandB'ye loglandı.\n"
     ]
    },
    {
     "data": {
      "text/html": [],
      "text/plain": [
       "<IPython.core.display.HTML object>"
      ]
     },
     "metadata": {},
     "output_type": "display_data"
    },
    {
     "data": {
      "text/html": [
       "<br>    <style><br>        .wandb-row {<br>            display: flex;<br>            flex-direction: row;<br>            flex-wrap: wrap;<br>            justify-content: flex-start;<br>            width: 100%;<br>        }<br>        .wandb-col {<br>            display: flex;<br>            flex-direction: column;<br>            flex-basis: 100%;<br>            flex: 1;<br>            padding: 10px;<br>        }<br>    </style><br><div class=\"wandb-row\"><div class=\"wandb-col\"><h3>Run history:</h3><br/><table class=\"wandb\"><tr><td>accuracy</td><td>▁</td></tr><tr><td>f1_score_anormal</td><td>▁</td></tr><tr><td>precision_anormal</td><td>▁</td></tr><tr><td>recall_anormal</td><td>▁</td></tr></table><br/></div><div class=\"wandb-col\"><h3>Run summary:</h3><br/><table class=\"wandb\"><tr><td>accuracy</td><td>1.0</td></tr><tr><td>f1_score_anormal</td><td>1.0</td></tr><tr><td>precision_anormal</td><td>1</td></tr><tr><td>recall_anormal</td><td>0.99999</td></tr></table><br/></div></div>"
      ],
      "text/plain": [
       "<IPython.core.display.HTML object>"
      ]
     },
     "metadata": {},
     "output_type": "display_data"
    },
    {
     "data": {
      "text/html": [
       " View run <strong style=\"color:#cdcd00\">stellar-butterfly-7</strong> at: <a href='https://wandb.ai/melihak635442-bites/bites-cpu-detection/runs/n8dcg0cx' target=\"_blank\">https://wandb.ai/melihak635442-bites/bites-cpu-detection/runs/n8dcg0cx</a><br> View project at: <a href='https://wandb.ai/melihak635442-bites/bites-cpu-detection' target=\"_blank\">https://wandb.ai/melihak635442-bites/bites-cpu-detection</a><br>Synced 5 W&B file(s), 1 media file(s), 2 artifact file(s) and 1 other file(s)"
      ],
      "text/plain": [
       "<IPython.core.display.HTML object>"
      ]
     },
     "metadata": {},
     "output_type": "display_data"
    },
    {
     "data": {
      "text/html": [
       "Find logs at: <code>./wandb/run-20250731_160311-n8dcg0cx/logs</code>"
      ],
      "text/plain": [
       "<IPython.core.display.HTML object>"
      ]
     },
     "metadata": {},
     "output_type": "display_data"
    },
    {
     "data": {
      "text/html": [],
      "text/plain": [
       "<IPython.core.display.HTML object>"
      ]
     },
     "metadata": {},
     "output_type": "display_data"
    },
    {
     "data": {
      "text/html": [
       "Tracking run with wandb version 0.21.0"
      ],
      "text/plain": [
       "<IPython.core.display.HTML object>"
      ]
     },
     "metadata": {},
     "output_type": "display_data"
    },
    {
     "data": {
      "text/html": [
       "Run data is saved locally in <code>/home/melih/Documents/Bites_CPU_Analizi/wandb/run-20250731_160506-np8qa9wp</code>"
      ],
      "text/plain": [
       "<IPython.core.display.HTML object>"
      ]
     },
     "metadata": {},
     "output_type": "display_data"
    },
    {
     "data": {
      "text/html": [
       "Syncing run <strong><a href='https://wandb.ai/melihak635442-bites/bites-cpu-detection/runs/np8qa9wp' target=\"_blank\">serene-grass-8</a></strong> to <a href='https://wandb.ai/melihak635442-bites/bites-cpu-detection' target=\"_blank\">Weights & Biases</a> (<a href='https://wandb.me/developer-guide' target=\"_blank\">docs</a>)<br>"
      ],
      "text/plain": [
       "<IPython.core.display.HTML object>"
      ]
     },
     "metadata": {},
     "output_type": "display_data"
    },
    {
     "data": {
      "text/html": [
       " View project at <a href='https://wandb.ai/melihak635442-bites/bites-cpu-detection' target=\"_blank\">https://wandb.ai/melihak635442-bites/bites-cpu-detection</a>"
      ],
      "text/plain": [
       "<IPython.core.display.HTML object>"
      ]
     },
     "metadata": {},
     "output_type": "display_data"
    },
    {
     "data": {
      "text/html": [
       " View run at <a href='https://wandb.ai/melihak635442-bites/bites-cpu-detection/runs/np8qa9wp' target=\"_blank\">https://wandb.ai/melihak635442-bites/bites-cpu-detection/runs/np8qa9wp</a>"
      ],
      "text/plain": [
       "<IPython.core.display.HTML object>"
      ]
     },
     "metadata": {},
     "output_type": "display_data"
    },
    {
     "name": "stdout",
     "output_type": "stream",
     "text": [
      "\n",
      "--- Deney Başladı: serene-grass-8 (RandomForest) ---\n",
      "Eğitim tamamlandı.\n",
      "Model 'model_path/RandomForest_serene-grass-8.joblib' olarak diske kaydedildi.\n",
      "'RandomForest' için metrikler WandB'ye loglandı.\n"
     ]
    },
    {
     "data": {
      "text/html": [],
      "text/plain": [
       "<IPython.core.display.HTML object>"
      ]
     },
     "metadata": {},
     "output_type": "display_data"
    },
    {
     "data": {
      "text/html": [
       "<br>    <style><br>        .wandb-row {<br>            display: flex;<br>            flex-direction: row;<br>            flex-wrap: wrap;<br>            justify-content: flex-start;<br>            width: 100%;<br>        }<br>        .wandb-col {<br>            display: flex;<br>            flex-direction: column;<br>            flex-basis: 100%;<br>            flex: 1;<br>            padding: 10px;<br>        }<br>    </style><br><div class=\"wandb-row\"><div class=\"wandb-col\"><h3>Run history:</h3><br/><table class=\"wandb\"><tr><td>accuracy</td><td>▁</td></tr><tr><td>f1_score_anormal</td><td>▁</td></tr><tr><td>precision_anormal</td><td>▁</td></tr><tr><td>recall_anormal</td><td>▁</td></tr></table><br/></div><div class=\"wandb-col\"><h3>Run summary:</h3><br/><table class=\"wandb\"><tr><td>accuracy</td><td>1.0</td></tr><tr><td>f1_score_anormal</td><td>1.0</td></tr><tr><td>precision_anormal</td><td>1</td></tr><tr><td>recall_anormal</td><td>0.99999</td></tr></table><br/></div></div>"
      ],
      "text/plain": [
       "<IPython.core.display.HTML object>"
      ]
     },
     "metadata": {},
     "output_type": "display_data"
    },
    {
     "data": {
      "text/html": [
       " View run <strong style=\"color:#cdcd00\">serene-grass-8</strong> at: <a href='https://wandb.ai/melihak635442-bites/bites-cpu-detection/runs/np8qa9wp' target=\"_blank\">https://wandb.ai/melihak635442-bites/bites-cpu-detection/runs/np8qa9wp</a><br> View project at: <a href='https://wandb.ai/melihak635442-bites/bites-cpu-detection' target=\"_blank\">https://wandb.ai/melihak635442-bites/bites-cpu-detection</a><br>Synced 5 W&B file(s), 1 media file(s), 2 artifact file(s) and 1 other file(s)"
      ],
      "text/plain": [
       "<IPython.core.display.HTML object>"
      ]
     },
     "metadata": {},
     "output_type": "display_data"
    },
    {
     "data": {
      "text/html": [
       "Find logs at: <code>./wandb/run-20250731_160506-np8qa9wp/logs</code>"
      ],
      "text/plain": [
       "<IPython.core.display.HTML object>"
      ]
     },
     "metadata": {},
     "output_type": "display_data"
    }
   ],
   "source": [
    "# Denenecek modeller ve hiperparametreleri\n",
    "configs = [\n",
    "    {\n",
    "        'model_type': 'DecisionTree', \n",
    "        'max_depth': 5\n",
    "    },\n",
    "    {\n",
    "        'model_type': 'RandomForest', \n",
    "        'n_estimators': 100,\n",
    "        'max_depth': 10\n",
    "    }\n",
    "]\n",
    "\n",
    "# Tüm konfigürasyonları sırayla dene\n",
    "for cfg in configs:\n",
    "    run_detection_experiment(cfg)"
   ]
  }
 ],
 "metadata": {
  "kernelspec": {
   "display_name": "bites_cpu_venv",
   "language": "python",
   "name": "python3"
  },
  "language_info": {
   "codemirror_mode": {
    "name": "ipython",
    "version": 3
   },
   "file_extension": ".py",
   "mimetype": "text/x-python",
   "name": "python",
   "nbconvert_exporter": "python",
   "pygments_lexer": "ipython3",
   "version": "3.13.5"
  }
 },
 "nbformat": 4,
 "nbformat_minor": 5
}
